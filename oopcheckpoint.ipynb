{
 "cells": [
  {
   "cell_type": "markdown",
   "id": "055af394-b93f-4be3-90f0-bf77ce9e6c96",
   "metadata": {},
   "source": [
    "# Create a class called \"Account\" that has the following attributes:\n",
    "\n",
    "    account_number (string)\n",
    "    account_balance (float)\n",
    "    account_holder (string)\n",
    "\n",
    "The class should have the following methods:\n",
    "\n",
    "    deposit(amount: float) - This method should add the amount passed as an argument to the account balance.\n",
    "    withdraw(amount: float) - This method should subtract the amount passed as an argument from the account balance, \n",
    "    but only if the account balance is greater than the amount being withdrawn.\n",
    "    check_balance() - This method should return the current account balance.\n",
    "\n",
    "Instructions\n",
    "\n",
    "    Create a new file called \"bank_account.py\"\n",
    "    Define the Account class and its attributes as specified above.\n",
    "    Define the deposit() method. It should take in one argument, the amount to be deposited, and add it to the account balance.\n",
    "    Define the withdraw() method. It should take in one argument, the amount to be withdrawn, and subtract it from the account balance. \n",
    "    The method should only execute the withdrawal if the account balance is greater than or equal to the amount to be withdrawn.\n",
    "    Define the check_balance() method. It should return the current account balance.\n",
    "    Create an instance of the Account class, and assign it to a variable called \"my_account\".\n",
    "    Use the methods of the class to deposit and withdraw money from the account, and check the account balance.\n",
    "    Test the program by creating multiple instances of the class and performing different transactions on them."
   ]
  },
  {
   "cell_type": "code",
   "execution_count": 2,
   "id": "5f9ce790-24c5-4e00-8b57-64f79df1b3e9",
   "metadata": {},
   "outputs": [],
   "source": [
    "class Account:\n",
    "    def __init__(self,acc_num : int,acc_balance : float,acc_holder: str):\n",
    "        self.acc_num = acc_num\n",
    "        self.acc_balance = acc_balance\n",
    "        self.acc_holder = acc_holder\n",
    "\n",
    "    def Deposit(self,amount):\n",
    "        self.acc_balance= amount + self.acc_balance\n",
    "\n",
    "    def Withdraw(self,amount):\n",
    "        if self.acc_balance > amount:\n",
    "            self.acc_balance= self.acc_balance - amount\n",
    "        else:\n",
    "            print (f\"the {amount} is greater than {self.acc_balance}\")\n",
    "\n",
    "    def Check_balance(self):\n",
    "        return(self.acc_balance)"
   ]
  },
  {
   "cell_type": "code",
   "execution_count": 4,
   "id": "d28d6271-c927-42b4-9494-8f489f0b82e2",
   "metadata": {},
   "outputs": [
    {
     "data": {
      "text/plain": [
       "{'acc_num': 5354646, 'acc_balance': 570.0, 'acc_holder': 'olabisi'}"
      ]
     },
     "execution_count": 4,
     "metadata": {},
     "output_type": "execute_result"
    }
   ],
   "source": [
    "acc1=Account(5354646,570.00,\"olabisi\")\n",
    "acc1.__dict__"
   ]
  },
  {
   "cell_type": "code",
   "execution_count": 6,
   "id": "e06de6e7-c2a9-469c-852a-2dd176ad2c75",
   "metadata": {},
   "outputs": [
    {
     "data": {
      "text/plain": [
       "{'acc_num': 5354646, 'acc_balance': 890.0, 'acc_holder': 'olabisi'}"
      ]
     },
     "execution_count": 6,
     "metadata": {},
     "output_type": "execute_result"
    }
   ],
   "source": [
    "acc1.deposit(320.00)\n",
    "acc1.__dict__"
   ]
  },
  {
   "cell_type": "code",
   "execution_count": 8,
   "id": "7dfa08a9-329e-4d01-a96f-d271c105ffbc",
   "metadata": {},
   "outputs": [
    {
     "data": {
      "text/plain": [
       "{'acc_num': 5354646, 'acc_balance': 690.0, 'acc_holder': 'olabisi'}"
      ]
     },
     "execution_count": 8,
     "metadata": {},
     "output_type": "execute_result"
    }
   ],
   "source": [
    "acc1.withdraw(200.00)\n",
    "acc1.__dict__"
   ]
  },
  {
   "cell_type": "code",
   "execution_count": 10,
   "id": "c91b3caf-c6e1-47eb-bc11-bf3ebcfc68e0",
   "metadata": {},
   "outputs": [
    {
     "name": "stdout",
     "output_type": "stream",
     "text": [
      "the 800.0 is greater than 690.0\n"
     ]
    },
    {
     "data": {
      "text/plain": [
       "{'acc_num': 5354646, 'acc_balance': 690.0, 'acc_holder': 'olabisi'}"
      ]
     },
     "execution_count": 10,
     "metadata": {},
     "output_type": "execute_result"
    }
   ],
   "source": [
    "acc1.withdraw(800.00)\n",
    "acc1.__dict__"
   ]
  },
  {
   "cell_type": "code",
   "execution_count": 12,
   "id": "5bbd50e3-bd84-4198-be23-df7d86407349",
   "metadata": {},
   "outputs": [
    {
     "data": {
      "text/plain": [
       "690.0"
      ]
     },
     "execution_count": 12,
     "metadata": {},
     "output_type": "execute_result"
    }
   ],
   "source": [
    "acc1.check_balance()"
   ]
  },
  {
   "cell_type": "code",
   "execution_count": null,
   "id": "aaff1a2c-09a2-4150-82e4-0e5536433262",
   "metadata": {},
   "outputs": [],
   "source": []
  }
 ],
 "metadata": {
  "kernelspec": {
   "display_name": "Python 3 (ipykernel)",
   "language": "python",
   "name": "python3"
  },
  "language_info": {
   "codemirror_mode": {
    "name": "ipython",
    "version": 3
   },
   "file_extension": ".py",
   "mimetype": "text/x-python",
   "name": "python",
   "nbconvert_exporter": "python",
   "pygments_lexer": "ipython3",
   "version": "3.12.4"
  }
 },
 "nbformat": 4,
 "nbformat_minor": 5
}
